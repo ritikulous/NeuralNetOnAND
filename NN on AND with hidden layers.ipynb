{
 "cells": [
  {
   "cell_type": "raw",
   "metadata": {},
   "source": [
    "Neural nets on AND values with one hidden layer havin 2 perceptrons"
   ]
  },
  {
   "cell_type": "code",
   "execution_count": 22,
   "metadata": {},
   "outputs": [],
   "source": [
    "import numpy as np"
   ]
  },
  {
   "cell_type": "code",
   "execution_count": 20,
   "metadata": {},
   "outputs": [],
   "source": [
    "X = np.array([[0,0],[0,1],[1,0],[1,1]])     #X is 4*2    first column is x1 and second column is x2\n",
    "Y = np.array([[0,0,0,1]]).T                 #Y is 4*1"
   ]
  },
  {
   "cell_type": "code",
   "execution_count": 23,
   "metadata": {},
   "outputs": [],
   "source": [
    "def sig(z):                                 #using sigmoid function as activation function\n",
    "    return 1/(1+np.exp(-z))"
   ]
  },
  {
   "cell_type": "code",
   "execution_count": 24,
   "metadata": {},
   "outputs": [],
   "source": [
    "wh = 2 * np.random.random((2,2)) - 1     #weights of hidden layer of matrix size 2*2\n",
    "bh = 2 * np.random.random((1,2)) - 1     #bias of hidden layer \n",
    "wo = 2 * np.random.random((2,1)) - 1     #weights of output layer of size 2*1\n",
    "bo = 2 * np.random.random((1,1)) - 1     #bias of output layer"
   ]
  },
  {
   "cell_type": "code",
   "execution_count": 19,
   "metadata": {},
   "outputs": [
    {
     "data": {
      "text/plain": [
       "array([[0.55625196],\n",
       "       [0.57013386],\n",
       "       [0.5517341 ],\n",
       "       [0.56516524]])"
      ]
     },
     "execution_count": 19,
     "metadata": {},
     "output_type": "execute_result"
    }
   ],
   "source": [
    "output0 = X\n",
    "outputhidden = sig(np.dot(output0,wh)+bh)\n",
    "outputfinal = sig(np.dot(outputhidden,wo)+bo)\n",
    "outputfinal"
   ]
  }
 ],
 "metadata": {
  "kernelspec": {
   "display_name": "Python 3",
   "language": "python",
   "name": "python3"
  },
  "language_info": {
   "codemirror_mode": {
    "name": "ipython",
    "version": 3
   },
   "file_extension": ".py",
   "mimetype": "text/x-python",
   "name": "python",
   "nbconvert_exporter": "python",
   "pygments_lexer": "ipython3",
   "version": "3.6.5"
  }
 },
 "nbformat": 4,
 "nbformat_minor": 2
}
